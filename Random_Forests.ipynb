{
 "cells": [
  {
   "cell_type": "code",
   "execution_count": 3,
   "metadata": {
    "colab": {},
    "colab_type": "code",
    "id": "O0l73twBvxaa"
   },
   "outputs": [],
   "source": [
    "import os \n",
    "os.environ[\"CUDA_VISIBLE_DEVICES\"]=\"0\""
   ]
  },
  {
   "cell_type": "markdown",
   "metadata": {
    "colab_type": "text",
    "id": "qQ_o8QlXvxaf"
   },
   "source": [
    "#                                               Lab 1 - Weightage - 3%\n",
    "\n",
    "##  Decision Trees and Random Forests\n",
    "\n"
   ]
  },
  {
   "cell_type": "markdown",
   "metadata": {
    "colab_type": "text",
    "id": "-AwG7YjSvxag"
   },
   "source": [
    "### Dataset used : Amazon Fine food reviews.\n",
    "### Maximum points in lab : 75 pts.\n",
    "#### Important points to remember :\n",
    " 1. Observations for the experiments done should be explained.\n",
    " 2. All the code should be submitted in form of single Jupyter notebook itself.\n",
    " 3. Points for each sub-section are mentioned in appropriate question.\n",
    " 4. Make sure to begin early since few experiments may consume more time to run.\n",
    " 5. You can use Google colab to run in jupyter notebook (https://colab.research.google.com/) How to load data in Google Colab ?(https://towardsdatascience.com/3-ways-to-load-csv-files-into-colab-7c14fcbdcb92)\n",
    " 6. The lab must be submitted on Google classroom. The code as well as the accompanying observations should be made part of the python notebook.\n",
    " 7. __The lab is due on Feb 7th 11.59pm.__\n",
    " 8. __The lab should be completed individually. Students are expected to follow the honor code of the class.__"
   ]
  },
  {
   "cell_type": "markdown",
   "metadata": {
    "colab_type": "text",
    "id": "k2RxwH9Cvxah"
   },
   "source": [
    "### 1. Go through [scikit learn DecisionTree documentation] : https://scikitlearn.org/stable/modules/generated/sklearn.tree.DecisionTreeClassifier.html#sklearn.tree.DecisionTreeClassifier\n",
    "### Explain briefly various options available in corresponding DecisionTree classifier in scikit-learn package. [5 pts]\n",
    "\n",
    "\n"
   ]
  },
  {
   "cell_type": "markdown",
   "metadata": {
    "colab_type": "text",
    "id": "w0MXX3VUvxah"
   },
   "source": [
    "**bold text**# Add your description of the function here.\n",
    "1. criterion - it is used to describe the paramter on basis of which the attributes are tested at each node \n",
    "criterion = entropy or ginni basis to decide split\n",
    "\n",
    "max_depth -  The maximum depth of the tree. if none then nodes are expanded until all leaves are pure or until all leaves contain less than min_samples_split samples\n",
    "\n",
    "min_samples_split = minimum samples required at each node for splitting to occur\n",
    "\n",
    "min_samples_leaf = minimum number of samples required to be at a leaf node\n",
    "\n",
    "max_features = number of features to consider when looking for the best split\n",
    "\n",
    "max_leaf_node = Grow  tree with max_leaf_nodes in best-first fashion\n",
    "\n",
    "\n"
   ]
  },
  {
   "cell_type": "markdown",
   "metadata": {
    "colab_type": "text",
    "id": "3ELcH5emvxai"
   },
   "source": [
    "The Amazon Fine Food Reviews dataset consists of reviews of fine foods from Amazon.<br>\n",
    "\n",
    "Number of reviews: 568,454<br>\n",
    "Number of users: 256,059<br>\n",
    "Number of products: 74,258<br>\n",
    "Timespan: Oct 1999 - Oct 2012<br>\n",
    "Number of Attributes/Columns in data: 10 \n",
    "\n",
    "Attribute Information:\n",
    "\n",
    "1. Id\n",
    "2. ProductId - unique identifier for the product\n",
    "3. UserId - unqiue identifier for the user\n",
    "4. ProfileName\n",
    "5. HelpfulnessNumerator - number of users who found the review helpful\n",
    "6. HelpfulnessDenominator - number of users who indicated whether they found the review helpful or not\n",
    "7. Score - rating between 1 and 5 \n",
    "8. Time - timestamp for the review\n",
    "9. Summary - brief summary of the review\n",
    "10. Text - text of the review\n",
    "\n",
    "Out of above attributes we will consider <strong>Score as Y or Output variable</strong>, and  <strong>Summary as X or data points.</strong>\n",
    "\n"
   ]
  },
  {
   "cell_type": "markdown",
   "metadata": {
    "colab_type": "text",
    "id": "9pimGxoDvxaj"
   },
   "source": [
    "### Import Libraries"
   ]
  },
  {
   "cell_type": "code",
   "execution_count": 4,
   "metadata": {
    "colab": {},
    "colab_type": "code",
    "id": "A3CAfaUJvxaj"
   },
   "outputs": [],
   "source": [
    "%matplotlib inline\n",
    "import numpy as np\n",
    "import pandas as pd\n",
    "from sklearn.metrics import accuracy_score\n",
    "from IPython.display import HTML\n",
    "import matplotlib.pyplot as plt\n",
    "from sklearn import model_selection\n",
    "import pickle\n",
    "import sqlite3\n",
    "import nltk\n",
    "from nltk.corpus import stopwords\n",
    "import string\n",
    "from sklearn.feature_extraction.text import CountVectorizer\n",
    "from sklearn import metrics\n",
    "from sklearn.model_selection import train_test_split\n",
    "from nltk.stem.porter import PorterStemmer\n",
    "from nltk.corpus import stopwords"
   ]
  },
  {
   "cell_type": "markdown",
   "metadata": {
    "colab_type": "text",
    "id": "mOsz7sVzvxan"
   },
   "source": [
    "### 2.  Dataset loading, train test split, print two data points after converting score column into positive, negative class - [5 pts]\n",
    "#### steps :\n",
    " Use score column as the output variable and Summary as the input variable\n",
    " 1. Convert score column as score > 3 - positive class and score <=3 as negative class.\n",
    " 2. Now define train test split as 0.25."
   ]
  },
  {
   "cell_type": "code",
   "execution_count": 5,
   "metadata": {
    "colab": {},
    "colab_type": "code",
    "id": "uUglkUe9vxan",
    "scrolled": true
   },
   "outputs": [
    {
     "name": "stdout",
     "output_type": "stream",
     "text": [
      "   Score                Summary\n",
      "0      5  Good Quality Dog Food\n",
      "1      1      Not as Advertised\n",
      "   Score                Summary\n",
      "0      1  Good Quality Dog Food\n",
      "1      0      Not as Advertised\n"
     ]
    }
   ],
   "source": [
    "# connecting to the dataset server to download the amazon fine foods dataset. Do not make any changes to the code below\n",
    "con = sqlite3.connect('database.sqlite')\n",
    "messages = pd.read_sql_query(\"\"\"\n",
    "SELECT Score, Summary\n",
    "FROM Reviews\n",
    "\"\"\", con)\n",
    "\n",
    "# the parition function applied threshold on the rating to label a review as 'positive' or 'negative'.\n",
    "def partition(x):\n",
    "  if x > 3:\n",
    "    return 1    \n",
    "  return 0  \n",
    "\n",
    "\n",
    "   # insert your code here\n",
    "\n",
    "Score = messages['Score']\n",
    "Score = Score.map(partition)\n",
    "Summary = messages['Summary']\n",
    "\n",
    "# call the function to create the train and test splits according to the ratio 75:25\n",
    "# uncomment and complete the line below\n",
    "\n",
    "train_X, test_X, train_y, test_y = train_test_split(Summary, Score , test_size=0.25)\n",
    "\n",
    "# print an example of the dataset after the labeling process\n",
    "print(messages.head(2))\n",
    "tmp = messages\n",
    "tmp['Score'] = tmp['Score'].map(partition)\n",
    "print(tmp.head(2))"
   ]
  },
  {
   "cell_type": "code",
   "execution_count": 6,
   "metadata": {
    "colab": {},
    "colab_type": "code",
    "id": "qHPPMiD3vxap"
   },
   "outputs": [
    {
     "name": "stderr",
     "output_type": "stream",
     "text": [
      "[nltk_data] Downloading package punkt to C:\\Users\\DELL-\n",
      "[nltk_data]     PC\\AppData\\Roaming\\nltk_data...\n",
      "[nltk_data]   Package punkt is already up-to-date!\n"
     ]
    }
   ],
   "source": [
    "# do not change make any changes to the code below. This part of the\n",
    "# code removes stop words and transforms all the words and letters\n",
    "# into a uniform representation. Further, it also removes punctuation\n",
    "# marks.\n",
    "nltk.download('punkt')\n",
    "stemmer = PorterStemmer()\n",
    "\n",
    "def stem_tokens(tokens, stemmer):\n",
    "    stemmed = []\n",
    "    for item in tokens:\n",
    "        stemmed.append(stemmer.stem(item))\n",
    "    return stemmed\n",
    "\n",
    "def tokenize(text):\n",
    "    tokens = nltk.word_tokenize(text)\n",
    "    stems = stem_tokens(tokens, stemmer)\n",
    "    return ' '.join(stems)\n",
    "\n",
    "intab = string.punctuation\n",
    "outtab = \"                                \"\n",
    "trantab = str.maketrans(intab, outtab)\n",
    "\n",
    "corpus = []\n",
    "count_train_x=0\n",
    "for text in train_X:\n",
    "    count_train_x=count_train_x+1\n",
    "    text = text.lower()\n",
    "    text = text.translate(trantab)\n",
    "    text=tokenize(text)\n",
    "    corpus.append(text)\n",
    "        \n",
    "count_test_x=0\n",
    "test_set=[]\n",
    "for text in test_X:\n",
    "    count_test_x=count_test_x+1\n",
    "    text = text.lower()\n",
    "    text = text.translate(trantab)\n",
    "    text=tokenize(text)\n",
    "    test_set.append(text)\n",
    "\n",
    "count_vect = CountVectorizer()\n",
    "X_train_counts = count_vect.fit_transform(corpus)        \n",
    "X_test_counts = count_vect.transform(test_set)"
   ]
  },
  {
   "cell_type": "markdown",
   "metadata": {
    "colab_type": "text",
    "id": "1mWcCHKOvxas"
   },
   "source": [
    "### 4. Print before and after using data pre-processing for five data points - [5 pts]\n",
    "For example, following are some outputs that we were able to generate\n",
    "\n",
    " ID | Before preprocessing | After preprocessing \n",
    " -|-|-\n",
    " 45612 | Good Strong Flavor|good strong flavor \n",
    " 180139 | GREAT SIDE DISH | great side dish \n",
    " 541273 | Its agar | it agar \n",
    " 102774 | Great product! | great product\n",
    " 447382 | Love them | love them "
   ]
  },
  {
   "cell_type": "code",
   "execution_count": 7,
   "metadata": {
    "colab": {},
    "colab_type": "code",
    "id": "z0V-yGPzvxas"
   },
   "outputs": [
    {
     "name": "stdout",
     "output_type": "stream",
     "text": [
      "274056       Healthy and Tasty Cereal\n",
      "474763                        Not Bad\n",
      "260573                   Superb snack\n",
      "208785    Beginner's Lapsang Souchong\n",
      "257275        Dove clean in a bottle!\n",
      "Name: Summary, dtype: object\n",
      "['healthi and tasti cereal', 'not bad', 'superb snack', 'beginn s lapsang souchong', 'dove clean in a bottl']\n"
     ]
    }
   ],
   "source": [
    "# Data before the processing step is stored in the variable train_X \n",
    "# and the processed data is present in corpus. Print randomly 5 \n",
    "# instances to check the success of the processing step. \n",
    "# insert your code here\n",
    "print(train_X.head(5))\n",
    "print(corpus[:5])"
   ]
  },
  {
   "cell_type": "markdown",
   "metadata": {
    "colab_type": "text",
    "id": "JZWk0shDvxau"
   },
   "source": [
    "### 5. Build a basic decision tree choosing appropriate min_samples_leaf parameter so that tree fits in output cell using Graphviz package [5 pts]\n",
    "Use the decision tree classifier from the sklearn library to learn a decision tree from the training dataet. For now, we would like to only visualize the tree to ensure that we are calling the correct function. Set the min_samples_leaf parameter to a high value (>15000) for learning the tree. This tree will not be accurate, but will be big enough for us to visualize it. Identify the functions in the tree package that will help to visualize the tree and plot it. Below is a sample tree generated when mi_samples_leaf was set to 20000\n",
    "![tree.png](attachment:tree.png)"
   ]
  },
  {
   "cell_type": "code",
   "execution_count": 8,
   "metadata": {
    "colab": {},
    "colab_type": "code",
    "id": "PWSa9fDTvxav"
   },
   "outputs": [
    {
     "data": {
      "text/plain": [
       "[Text(260.40000000000003, 201.90857142857143, 'X[13818] <= 0.5\\ngini = 0.343\\nsamples = 426340\\nvalue = [93630, 332710]'),\n",
       " Text(223.20000000000002, 170.84571428571428, 'X[8862] <= 0.5\\ngini = 0.308\\nsamples = 401673\\nvalue = [76333, 325340]'),\n",
       " Text(186.0, 139.78285714285715, 'X[2252] <= 0.5\\ngini = 0.333\\nsamples = 351282\\nvalue = [74123, 277159]'),\n",
       " Text(148.8, 108.72, 'X[11874] <= 0.5\\ngini = 0.349\\nsamples = 327601\\nvalue = [73840, 253761]'),\n",
       " Text(111.60000000000001, 77.65714285714284, 'X[8647] <= 0.5\\ngini = 0.367\\nsamples = 301116\\nvalue = [72824, 228292]'),\n",
       " Text(74.4, 46.59428571428572, 'X[19998] <= 0.5\\ngini = 0.381\\nsamples = 268397\\nvalue = [68855, 199542]'),\n",
       " Text(37.2, 15.531428571428563, 'gini = 0.379\\nsamples = 250288\\nvalue = [63641, 186647]'),\n",
       " Text(111.60000000000001, 15.531428571428563, 'gini = 0.41\\nsamples = 18109\\nvalue = [5214, 12895]'),\n",
       " Text(148.8, 46.59428571428572, 'gini = 0.213\\nsamples = 32719\\nvalue = [3969, 28750]'),\n",
       " Text(186.0, 77.65714285714284, 'gini = 0.074\\nsamples = 26485\\nvalue = [1016, 25469]'),\n",
       " Text(223.20000000000002, 108.72, 'gini = 0.024\\nsamples = 23681\\nvalue = [283, 23398]'),\n",
       " Text(260.40000000000003, 139.78285714285715, 'gini = 0.084\\nsamples = 50391\\nvalue = [2210, 48181]'),\n",
       " Text(297.6, 170.84571428571428, 'gini = 0.419\\nsamples = 24667\\nvalue = [17297, 7370]')]"
      ]
     },
     "execution_count": 8,
     "metadata": {},
     "output_type": "execute_result"
    },
    {
     "data": {
      "image/png": "[encoded data removed]",
      "text/plain": [
       "<Figure size 432x288 with 1 Axes>"
      ]
     },
     "metadata": {
      "needs_background": "light"
     },
     "output_type": "display_data"
    }
   ],
   "source": [
    "from sklearn import tree\n",
    "# insert your code here\n",
    "classifier = tree.DecisionTreeClassifier(min_samples_leaf = 18000 )\n",
    "clasifier = classifier.fit(X_train_counts, train_y)\n",
    "tree.plot_tree(classifier)"
   ]
  },
  {
   "cell_type": "markdown",
   "metadata": {
    "colab_type": "text",
    "id": "Pgn2vipavxaz"
   },
   "source": [
    "### 6. Experiments with different tree parameters\n",
    "#### a. minimum number of samples in a node.  [5 pts]\n",
    "By now we should have all the code in place for learning accurate decision trees. As we discussed in the class, one method to prevent overfitting a decision tree is to put constraints on the number of samples assigned to a split node during training. We had used this parameter to learn extremely short decision trees in the previous step. Let us now vary this parameter and investigate the impact on the train and test accuracy of the model. \n",
    "The first part of the code should loop around different values for min_samples_split and save the resulting train and test accuracy. In the second part, plot a graph with x-axis being the number of samples in the node and accuracy being the y axis. Plot both the train and test accuracies in the same figure. Write a generic function for the plotting as we will use it later for other visualizations."
   ]
  },
  {
   "cell_type": "code",
   "execution_count": 12,
   "metadata": {
    "colab": {},
    "colab_type": "code",
    "id": "l7a9HEh5vxa0"
   },
   "outputs": [
    {
     "data": {
      "image/png": "[encoded data removed]",
      "text/plain": [
       "<Figure size 432x288 with 1 Axes>"
      ]
     },
     "metadata": {
      "needs_background": "light"
     },
     "output_type": "display_data"
    }
   ],
   "source": [
    "test_accuracy_list=[]\n",
    "train_accuracy_list=[]\n",
    "min_samples_split = [10,50,100,200]\n",
    "\n",
    "for i in min_samples_split:\n",
    "    # insert your code here\n",
    "    classifier = tree.DecisionTreeClassifier(min_samples_split = i)\n",
    "    \n",
    "    classifier =  classifier.fit(X_train_counts, train_y)\n",
    "    \n",
    "    predictTrainY = classifier.predict(X_train_counts)\n",
    "    \n",
    "    predictTestY = classifier.predict(X_test_counts)\n",
    "    \n",
    "    train_accuracy = accuracy_score(train_y, predictTrainY)\n",
    "    \n",
    "    test_accuracy = accuracy_score(test_y, predictTestY)\n",
    "    \n",
    "    test_accuracy_list.append(test_accuracy)\n",
    "    \n",
    "    train_accuracy_list.append(train_accuracy)  \n",
    "    \n",
    "    \n",
    "\n",
    "    \n",
    "def plot_accuracy(test_accuracy_list,train_accuracy_list, xlabel, ylabel, title):    \n",
    "    # insert your code here\n",
    "    plt.plot(min_samples_split, train_accuracy_list, label = 'train set' )\n",
    "    plt.plot(min_samples_split, test_accuracy_list, label = 'test set' )\n",
    "    plt.legend()\n",
    "    plt.xlabel(xlabel)\n",
    "    plt.ylabel(ylabel)\n",
    "plot_accuracy(test_accuracy_list, train_accuracy_list, 'minimum samples in a node for splitting to occur', 'accuracy' , 'accuracy vs min_samples_split plot')"
   ]
  },
  {
   "cell_type": "markdown",
   "metadata": {},
   "source": [
    "firstly we observe that as the minimum no. of samples required at a node for splitting to occur is increasing the accuracy is decreasing which is expected especially the rate of decrease is greater for train set accuracy as if we talk about the training set, maximum accuracy will be when there is as many number of leaf nodes as the training instances i.e. 0 entropy or perfect purity that is if each leaf contain as less samples as possible ( in best case just one sample). As is evident when minimum samples are less than 25 accuracy is greater than 97 percent for training set and close to 92 percent for test set and also the difference between train and test accuracy is more than 5 percent. And as the min numbers of samples for split doubles to 50 the difference between them becomes less than 3 percent. As very less number of samples required to split at a node results in overfitting the training set. And as the number of samples increases the rate of dip in test set accuracy becomes less as model starts to generalize better as expected. But neverthless the accuracy always remains above 90 percent implying decision tree is a good model for dicrete functions or classification."
   ]
  },
  {
   "cell_type": "markdown",
   "metadata": {
    "colab_type": "text",
    "id": "yWYeCegHvxa2"
   },
   "source": [
    "#### b. maximum number of leaf nodes in the tree [5 pts]\n",
    "The tree learner has a parameter max_leaf_nodes. Discuss the role of this parameter during the tree learning. Investigate the impact of this parameter on the train and test accuracy."
   ]
  },
  {
   "cell_type": "code",
   "execution_count": 14,
   "metadata": {
    "colab": {},
    "colab_type": "code",
    "id": "BBlYwseBvxa2"
   },
   "outputs": [
    {
     "data": {
      "image/png": "[encoded data removed]",
      "text/plain": [
       "<Figure size 432x288 with 1 Axes>"
      ]
     },
     "metadata": {
      "needs_background": "light"
     },
     "output_type": "display_data"
    }
   ],
   "source": [
    "test_accuracy_list=[]\n",
    "train_accuracy_list=[]\n",
    "max_leaf_nodes=1000\n",
    "step_size_2=50\n",
    "steps = []\n",
    "for i in range(2, max_leaf_nodes,step_size_2):   \n",
    "    # insert your code here\n",
    "    steps.append(i)\n",
    "    classifier = tree.DecisionTreeClassifier(max_leaf_nodes = i)\n",
    "    \n",
    "    classifier =  classifier.fit(X_train_counts, train_y)\n",
    "    \n",
    "    predictTrainY = classifier.predict(X_train_counts)\n",
    "    \n",
    "    predictTestY = classifier.predict(X_test_counts)\n",
    "    \n",
    "    train_accuracy = accuracy_score(train_y, predictTrainY)\n",
    "    \n",
    "    test_accuracy = accuracy_score(test_y, predictTestY)\n",
    "    \n",
    "    test_accuracy_list.append(test_accuracy)\n",
    "    \n",
    "    train_accuracy_list.append(train_accuracy)  \n",
    "\n",
    "def plot_accuracy2(test_accuracy_list,train_accuracy_list, xlabel, ylabel, title):    \n",
    "    \n",
    "    plt.plot(steps, train_accuracy_list, label = 'train set' )\n",
    "    plt.plot(steps, test_accuracy_list, label = 'test set' )\n",
    "    plt.legend()\n",
    "    plt.xlabel(xlabel)\n",
    "    plt.ylabel(ylabel)    \n",
    "plot_accuracy2(test_accuracy_list, train_accuracy_list, 'maximum number of leaf nodes' , 'accuracy', 'accuracy vs max no of leaf nodes')"
   ]
  },
  {
   "cell_type": "markdown",
   "metadata": {},
   "source": [
    "    We observe that accuracy sharply increases initially especially till max no of leaf nodes=100 and jumps from about 80 percent to 86 in this short span which is exactly as expected as here we are tokenizing the summary into a sparse matrix based on the words in each of summary in each review. So, there will be multiple ' if this then put in this class' rules in the desired descion tree. for eg a review will be considered good in nummerous ways like 'awesome food', 'delicious', 'will surely visit again' and so on. So, we must allow a good enough number of maximum leaves for better accuracy. Interesting observation is upto a huge range there is a close overlap between test and train accuracy but then after about 700 max leaves the test accuracy starts to decreases and which will futher greatly decrease if we allow max leaf to be more which means tree starts to overfit the training set as expected. But overall we observe that accuracy is range of 80-90 one plausile reason could be that in simple classification of words by tokenization the 'context' is not preserved, thus application of NLP coulde have resulted in improvement in accuracy.   "
   ]
  },
  {
   "cell_type": "markdown",
   "metadata": {
    "colab_type": "text",
    "id": "uv8Sh6LZvxa5"
   },
   "source": [
    "####  % c. splitting criteria [5 pts]\n",
    "Identify the default splitting critera and experiment with other criterion implemented in the tree package. Report the accuracy on the test dataset as well as other parameters chracterizing the learned decision tree. "
   ]
  },
  {
   "cell_type": "code",
   "execution_count": 18,
   "metadata": {
    "colab": {},
    "colab_type": "code",
    "id": "OhAeTm-tvxa6"
   },
   "outputs": [
    {
     "name": "stdout",
     "output_type": "stream",
     "text": [
      "\n",
      " time taken to train the model with gini as splitting criterion is %s sec 458.75980257987976\n",
      "\n",
      " time taken to predict test dataset labels using tree learned with gini as splitting criterion is %s sec 0.5769548416137695\n",
      "\n",
      " accuracy on test data set with gini as splitting criterion is %f 0.9153144658513588\n",
      "\n",
      " time taken to train the model with entropy as splitting criterion is %s sec 368.14267349243164\n",
      "\n",
      " time taken to predict test dataset labels using tree learned with entropy as splitting criterion is %s sec 0.43998098373413086\n",
      "\n",
      " accuracy on test data set with entropy as splitting criterion is %f 0.916257370843126\n"
     ]
    }
   ],
   "source": [
    "import time\n",
    "classifier = tree.DecisionTreeClassifier()\n",
    "\n",
    "tick = time.time()\n",
    "classifier = classifier.fit(X_train_counts,train_y)\n",
    "tock = time.time()\n",
    "print(\"\\n time taken to train the model with gini as splitting criterion is %s sec\",  str(tock-tick))\n",
    "\n",
    "tick = time.time()\n",
    "predictTestY = classifier.predict(X_test_counts)\n",
    "tock = time.time()\n",
    "\n",
    "test_accuracy = accuracy_score(test_y, predictTestY)\n",
    "\n",
    "print(\"\\n time taken to predict test dataset labels using tree learned with gini as splitting criterion is %s sec\", str(tock-tick))\n",
    "print(\"\\n accuracy on test data set with gini as splitting criterion is %f\", test_accuracy)\n",
    "\n",
    "\n",
    "\n",
    "\n",
    "classifier = tree.DecisionTreeClassifier(criterion = \"entropy\")\n",
    "\n",
    "tick = time.time()\n",
    "classifier = classifier.fit(X_train_counts,train_y)\n",
    "tock = time.time()\n",
    "print(\"\\n time taken to train the model with entropy as splitting criterion is %s sec\", str(tock-tick))\n",
    "\n",
    "\n",
    "tick = time.time()\n",
    "predictTestY = classifier.predict(X_test_counts)\n",
    "tock = time.time()\n",
    "    \n",
    "test_accuracy = accuracy_score(test_y, predictTestY)\n",
    "\n",
    "\n",
    "print(\"\\n time taken to predict test dataset labels using tree learned with entropy as splitting criterion is %s sec\",str(tock-tick))\n",
    "print(\"\\n accuracy on test data set with entropy as splitting criterion is %f\", test_accuracy)\n",
    "\n",
    "\n",
    "\n",
    "    \n",
    "\n"
   ]
  },
  {
   "cell_type": "markdown",
   "metadata": {},
   "source": [
    "We see that gini and entropy are preety much the same .\n",
    "Gini:Gini(E)=1−∑sqr(p) \n",
    "Entropy:H(E)=−∑plogp\n",
    "hence they give almost similar accuracy.its just that they were developed in two different field of research hence two terms as per my reseach. Also, as per Tan et. al book Introduction to Data Mining\n",
    "\n",
    "\"Impurity measure are quite consistent with each other.Indeed, the strategy used to prune the tree has a greater impact on the final tree than the choice of impurity measure.\" \n",
    "Also as per stack overflow ginni is more suited for continous attributes while entropy for dicrete ones and by tokenizing our attributes are also discrete. So, may be thats why time taken to train is less for entropy but anyways it depends on startegy used to prune the tree which may be faster for entropy as a measure.\n"
   ]
  },
  {
   "cell_type": "markdown",
   "metadata": {
    "colab_type": "text",
    "id": "ZavIvOFmvxa-"
   },
   "source": [
    "#### d. depth of the decision tree [5 pts]\n",
    "Investigate the impact of depth of the decision tree on the test accuracy"
   ]
  },
  {
   "cell_type": "code",
   "execution_count": 20,
   "metadata": {
    "colab": {},
    "colab_type": "code",
    "id": "3Mtm0fnUvxbA"
   },
   "outputs": [
    {
     "data": {
      "image/png": "[encoded data removed]",
      "text/plain": [
       "<Figure size 432x288 with 1 Axes>"
      ]
     },
     "metadata": {
      "needs_background": "light"
     },
     "output_type": "display_data"
    }
   ],
   "source": [
    "test_accuracy_list=[]\n",
    "train_accuracy_list=[]\n",
    "maximum_depth=1000\n",
    "step_size=50\n",
    "steps=[]\n",
    "for i in range(1, maximum_depth,step_size):\n",
    "    #insert your code here\n",
    "    steps.append(i)\n",
    "    classifier = tree.DecisionTreeClassifier(max_depth = i)\n",
    "    \n",
    "    classifier =  classifier.fit(X_train_counts, train_y)\n",
    "    \n",
    "    predictTrainY = classifier.predict(X_train_counts)\n",
    "    \n",
    "    predictTestY = classifier.predict(X_test_counts)\n",
    "    \n",
    "    train_accuracy = accuracy_score(train_y, predictTrainY)\n",
    "    \n",
    "    test_accuracy = accuracy_score(test_y, predictTestY)\n",
    "    \n",
    "    test_accuracy_list.append(test_accuracy)\n",
    "    \n",
    "    train_accuracy_list.append(train_accuracy)  \n",
    "\n",
    "    \n",
    "\n",
    "plot_accuracy2(test_accuracy_list, train_accuracy_list, 'maximum_depth', 'accuracy', 'accuracy vs maximum depth ')"
   ]
  },
  {
   "cell_type": "markdown",
   "metadata": {},
   "source": [
    "firstly the accuracy increases on both train and test set as depth of tree increases as expected as greater depth means more number of rules/decisons taken into consideration while classifying which will result in obviously more accurate predictions and hence accuarcy increases. \n",
    "\n",
    " Secondly, with increasing depth its clearly visible that test set accuracy starts to dip as compared to train set on which it contiues to increase from 80 percent to as higher as 97.5 as a tree trained on training set with greater depth on trng set will start to overfit it. These trends are a classic example of overfitting."
   ]
  },
  {
   "cell_type": "markdown",
   "metadata": {
    "colab_type": "text",
    "id": "z0wkj7OevxbD"
   },
   "source": [
    "### 7. Random forest\n",
    "Now, let us explore an ensemble of decision trees - random forest. Fortunately, sklearn has an ensemble library containing the random forest classifier. Let us learn a random forest using both instance and feature bagging independently.\n",
    "#### a. briefly describe the input parameters to the random forest classifier [5 pts]\n",
    "insert your description here\n",
    "#### b. instance bagging [10 pts]\n",
    "As discussed in the class, instances are sampled with replacement to create multiple synthetic training sets. Decision tree is learned for every training set. An ensemble strategy (majority voting) is applied on the output of all the trees for a test instance. Let us vary the number of instances in each bag to learn the random forest and check if there is impact on the performance of the ensemble. "
   ]
  },
  {
   "cell_type": "markdown",
   "metadata": {},
   "source": [
    "n_estimators = no of trees in ensemble\n",
    "\n",
    "criterion = entropy or ginni basis to decide split\n",
    "\n",
    "random_state = sets a seed to the random generator, so that train-test splits are always deterministic and  are reproducible. most common seed values are 0 or 42.\n",
    "\n",
    "n_jobs = number of jobs to run in parallel. default is None means 1. -1 means using all processors\n",
    "\n",
    "max_features = maximum number of features picked to train each of the tree in forest in feature bagging\n",
    "\n",
    "\n",
    "max_samples = maximum number of instances picked to train each of the tree in forest in instance bagging\n",
    "\n",
    "bootstrap = whether bootstrap samples are used when building trees. If false the whole datset is used to build each tree\n",
    "\n"
   ]
  },
  {
   "cell_type": "code",
   "execution_count": 32,
   "metadata": {
    "colab": {},
    "colab_type": "code",
    "id": "vkR5HbO0vxbE"
   },
   "outputs": [
    {
     "ename": "TypeError",
     "evalue": "__init__() got an unexpected keyword argument 'max_samples'",
     "output_type": "error",
     "traceback": [
      "\u001b[1;31m---------------------------------------------------------------------------\u001b[0m",
      "\u001b[1;31mTypeError\u001b[0m                                 Traceback (most recent call last)",
      "\u001b[1;32m<ipython-input-32-fe3123f65d1a>\u001b[0m in \u001b[0;36m<module>\u001b[1;34m\u001b[0m\n\u001b[0;32m      7\u001b[0m \u001b[0msteps\u001b[0m \u001b[1;33m=\u001b[0m \u001b[0mnumber_of_instances\u001b[0m\u001b[1;33m\u001b[0m\u001b[1;33m\u001b[0m\u001b[0m\n\u001b[0;32m      8\u001b[0m \u001b[1;32mfor\u001b[0m \u001b[0mi\u001b[0m \u001b[1;32min\u001b[0m \u001b[0mnumber_of_instances\u001b[0m\u001b[1;33m:\u001b[0m\u001b[1;33m\u001b[0m\u001b[1;33m\u001b[0m\u001b[0m\n\u001b[1;32m----> 9\u001b[1;33m     \u001b[0mclassifier\u001b[0m \u001b[1;33m=\u001b[0m \u001b[0mRandomForestClassifier\u001b[0m\u001b[1;33m(\u001b[0m\u001b[0mn_jobs\u001b[0m \u001b[1;33m=\u001b[0m \u001b[1;33m-\u001b[0m\u001b[1;36m1\u001b[0m \u001b[1;33m,\u001b[0m \u001b[0mrandom_state\u001b[0m \u001b[1;33m=\u001b[0m \u001b[0mrandom\u001b[0m\u001b[1;33m.\u001b[0m\u001b[0mseed\u001b[0m\u001b[1;33m(\u001b[0m\u001b[1;36m0\u001b[0m\u001b[1;33m)\u001b[0m\u001b[1;33m,\u001b[0m \u001b[0mmax_samples\u001b[0m \u001b[1;33m=\u001b[0m \u001b[0mi\u001b[0m\u001b[1;33m)\u001b[0m\u001b[1;33m\u001b[0m\u001b[1;33m\u001b[0m\u001b[0m\n\u001b[0m\u001b[0;32m     10\u001b[0m     \u001b[0mclassifier\u001b[0m \u001b[1;33m=\u001b[0m  \u001b[0mclassifier\u001b[0m\u001b[1;33m.\u001b[0m\u001b[0mfit\u001b[0m\u001b[1;33m(\u001b[0m\u001b[0mX_train_counts\u001b[0m\u001b[1;33m,\u001b[0m \u001b[0mtrain_y\u001b[0m\u001b[1;33m)\u001b[0m\u001b[1;33m\u001b[0m\u001b[1;33m\u001b[0m\u001b[0m\n\u001b[0;32m     11\u001b[0m \u001b[1;33m\u001b[0m\u001b[0m\n",
      "\u001b[1;31mTypeError\u001b[0m: __init__() got an unexpected keyword argument 'max_samples'"
     ]
    }
   ],
   "source": [
    "import sklearn\n",
    "from sklearn.ensemble import RandomForestClassifier\n",
    "import random\n",
    "test_accuracy_list=[]\n",
    "train_accuracy_list=[]\n",
    "number_of_instances = [1000,5000,10000,20000]\n",
    "steps = number_of_instances\n",
    "for i in number_of_instances:\n",
    "    classifier = RandomForestClassifier(n_jobs = -1 , random_state = random.seed(0), max_samples = i) \n",
    "    classifier =  classifier.fit(X_train_counts, train_y)\n",
    "    \n",
    "    predictTrainY = classifier.predict(X_train_counts)\n",
    "    \n",
    "    predictTestY = classifier.predict(X_test_counts)\n",
    "    \n",
    "    train_accuracy = accuracy_score(train_y, predictTrainY)\n",
    "    \n",
    "    test_accuracy = accuracy_score(test_y, predictTestY)\n",
    "    \n",
    "    test_accuracy_list.append(test_accuracy)\n",
    "    \n",
    "    train_accuracy_list.append(train_accuracy)  \n",
    "\n",
    "plot_accuracy2(test_accuracy_list, train_accuracy_list, 'number of instances taken to train each of the decision tree', 'accuracy', 'accuracy vs no of instances per decision tree')"
   ]
  },
  {
   "cell_type": "markdown",
   "metadata": {},
   "source": [
    "NOTE- the max samples option is there in only sklearn version 22.0. I updated it but still this feature is not working here. I ran the same code on another laptop and got the result. so just presenting the observation and attaching the plot separately. I think observations are the key as plots will be same for everyone. Code I have written above.\n",
    "\n",
    "we observe that initiialy test and train accuracy are quite close and even after an avove 10 times increases in no of features to 20k the difference is just about 91-90= 1 percent showing though slight overfit occcurs but its very small.thus vairiance has been mainatined very low till end as expected. \n",
    "The accuracy is increasing as we take more instances to train each tree in the forest as it results in more well defined 'if else' rules for the tree but at the same time slightly overfits the training  set as expected.\n",
    "\n",
    "\n",
    "\n",
    "\n"
   ]
  },
  {
   "cell_type": "markdown",
   "metadata": {
    "colab_type": "text",
    "id": "p5R74qxLvxbF"
   },
   "source": [
    "#### c. feature bagging [10 pts]\n",
    "For performing feature bagging, we sample a subset of features from the initial set of features. A decision tree is learned for every training set that contains all the instances characterized by a subset of features. An ensemble strategy is applied for classifying a test instance. In this experiment we will investigate the impact of varying the number of features bagged on the test accuracy."
   ]
  },
  {
   "cell_type": "code",
   "execution_count": 30,
   "metadata": {
    "colab": {},
    "colab_type": "code",
    "id": "5gV3WU8NvxbG"
   },
   "outputs": [
    {
     "name": "stderr",
     "output_type": "stream",
     "text": [
      "C:\\Users\\DELL-PC\\anaconda\\Anaconda3\\lib\\site-packages\\sklearn\\ensemble\\forest.py:245: FutureWarning: The default value of n_estimators will change from 10 in version 0.20 to 100 in 0.22.\n",
      "C:\\Users\\DELL-PC\\anaconda\\Anaconda3\\lib\\site-packages\\sklearn\\ensemble\\forest.py:245: FutureWarning: The default value of n_estimators will change from 10 in version 0.20 to 100 in 0.22.\n",
      "C:\\Users\\DELL-PC\\anaconda\\Anaconda3\\lib\\site-packages\\sklearn\\ensemble\\forest.py:245: FutureWarning: The default value of n_estimators will change from 10 in version 0.20 to 100 in 0.22.\n",
      "C:\\Users\\DELL-PC\\anaconda\\Anaconda3\\lib\\site-packages\\sklearn\\ensemble\\forest.py:245: FutureWarning: The default value of n_estimators will change from 10 in version 0.20 to 100 in 0.22.\n"
     ]
    },
    {
     "data": {
      "image/png": "[encoded data removed]",
      "text/plain": [
       "<Figure size 432x288 with 1 Axes>"
      ]
     },
     "metadata": {
      "needs_background": "light"
     },
     "output_type": "display_data"
    }
   ],
   "source": [
    "import sklearn\n",
    "from sklearn.ensemble import RandomForestClassifier\n",
    "test_accuracy_list=[]\n",
    "train_accuracy_list=[]\n",
    "number_of_features = [1000,10000,15000,20000]\n",
    "steps = number_of_features\n",
    "for i in number_of_features:\n",
    "    # insert your code here\n",
    "    classifier = RandomForestClassifier(n_jobs = -1 , random_state = random.seed(0), max_features = i) \n",
    "    classifier =  classifier.fit(X_train_counts, train_y)\n",
    "    \n",
    "    predictTrainY = classifier.predict(X_train_counts)\n",
    "    \n",
    "    predictTestY = classifier.predict(X_test_counts)\n",
    "    \n",
    "    train_accuracy = accuracy_score(train_y, predictTrainY)\n",
    "    \n",
    "    test_accuracy = accuracy_score(test_y, predictTestY)\n",
    "    \n",
    "    test_accuracy_list.append(test_accuracy)\n",
    "    \n",
    "    train_accuracy_list.append(train_accuracy) \n",
    "    \n",
    "\n",
    "    \n",
    "plot_accuracy2(test_accuracy_list ,train_accuracy_list, 'number of features taken to train each of the decision tree','accuracy', 'accuracy vs no of features per decision tree')"
   ]
  },
  {
   "cell_type": "markdown",
   "metadata": {},
   "source": [
    "We observe the accuracy is almost constant which is expected as due to default true value of boostrap there is sampling with replacement of the features and the final prediction is the average of all the learned trees which results in minimum variance. Also the difference between test and train accuracy has not increased much which shows that random forest's feature bagging minimizes overfitting even better than  instance bagging as it additionally decorrelates the trees learned. also accuracy are above 90 percent  which shows that random forest are very good for classification task."
   ]
  },
  {
   "cell_type": "markdown",
   "metadata": {
    "colab_type": "text",
    "id": "uc150DcuvxbI"
   },
   "source": [
    "#### d. number of trees in the forest [10 pts]\n",
    "Finally let us vary the number of trees in the random forest. We will use the default random forest classifier and only vary the number of trees learned in the ensemble. Again make your observations on the test accuracy as the number of trees are varied."
   ]
  },
  {
   "cell_type": "code",
   "execution_count": 29,
   "metadata": {
    "colab": {},
    "colab_type": "code",
    "id": "hHWiYdmpvxbI",
    "scrolled": true
   },
   "outputs": [
    {
     "data": {
      "image/png": "[encoded data removed]",
      "text/plain": [
       "<Figure size 432x288 with 1 Axes>"
      ]
     },
     "metadata": {
      "needs_background": "light"
     },
     "output_type": "display_data"
    }
   ],
   "source": [
    "import sklearn\n",
    "from sklearn.ensemble import RandomForestClassifier\n",
    "test_accuracy_list=[]\n",
    "train_accuracy_list=[]\n",
    "number_of_trees = [1,2,5,10,50]\n",
    "steps = number_of_trees\n",
    "for i in number_of_trees:\n",
    "    # insert your code here\n",
    "    classifier = RandomForestClassifier(n_jobs = -1 , random_state = random.seed(0), n_estimators = i) \n",
    "    \n",
    "    classifier =  classifier.fit(X_train_counts, train_y)\n",
    "    \n",
    "    predictTrainY = classifier.predict(X_train_counts)\n",
    "    \n",
    "    predictTestY = classifier.predict(X_test_counts)\n",
    "    \n",
    "    train_accuracy = accuracy_score(train_y, predictTrainY)\n",
    "    \n",
    "    test_accuracy = accuracy_score(test_y, predictTestY)\n",
    "    \n",
    "    test_accuracy_list.append(test_accuracy)\n",
    "    \n",
    "    train_accuracy_list.append(train_accuracy) \n",
    "    \n",
    "    \n",
    "plot_accuracy2(test_accuracy_list ,train_accuracy_list, 'no of trees in the forest', 'accuracy', 'accuracy vs no of trees in ensemble')"
   ]
  },
  {
   "cell_type": "markdown",
   "metadata": {},
   "source": [
    "with more trees we get better accuracy. However, the rate of improvement decreases as the number of trees increases as at a certain point the benefit in prediction performance from learning more trees will be lower than the cost in computation time for learning these additional trees.More trees provide better estimate of the average  and are closer to ideal tree hence increase. Also overfitting has been minimized due to better closeness to ideal classifier."
   ]
  }
 ],
 "metadata": {
  "colab": {
   "collapsed_sections": [],
   "name": "SHUBHAM _ - lab_1.ipynb",
   "provenance": []
  },
  "kernelspec": {
   "display_name": "Python 3",
   "language": "python",
   "name": "python3"
  },
  "language_info": {
   "codemirror_mode": {
    "name": "ipython",
    "version": 3
   },
   "file_extension": ".py",
   "mimetype": "text/x-python",
   "name": "python",
   "nbconvert_exporter": "python",
   "pygments_lexer": "ipython3",
   "version": "3.7.4"
  }
 },
 "nbformat": 4,
 "nbformat_minor": 1
}
