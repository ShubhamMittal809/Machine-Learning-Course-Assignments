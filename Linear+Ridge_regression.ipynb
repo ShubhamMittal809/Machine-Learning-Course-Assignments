{
  "nbformat": 4,
  "nbformat_minor": 0,
  "metadata": {
    "colab": {
      "name": "SHUBHAM _ - lab_2.ipynb",
      "provenance": [],
      "collapsed_sections": [],
      "machine_shape": "hm"
    },
    "kernelspec": {
      "name": "python3",
      "display_name": "Python 3"
    },
    "accelerator": "TPU"
  },
  "cells": [
    {
      "cell_type": "markdown",
      "metadata": {
        "id": "Ox5bZYB3DNOC",
        "colab_type": "text"
      },
      "source": [
        "# **Lab 2**\n",
        "### Weightage 3%\n",
        "## Linear Regression\n",
        "---\n",
        "Dataset used: \n",
        "  ACS Flammability Limit Computation\n",
        "\n",
        "---\n",
        "\n",
        "\n",
        "\n",
        "Maximum Points in the Lab: 65\n",
        "\n",
        "---\n",
        "Important points to remember :\n",
        "\n",
        "\n",
        "1.  Observations for the experiments should be explained.\n",
        "2. All the code should be submitted in the form of a single Jupyter notebook itself.\n",
        "3. Points for each sub-section are mentioned in the appropriate question.\n",
        "4. Make sure to begin early as a few experiments may consume more time to run.\n",
        "5. You can use Google colab to run in jupyter notebook (https://colab.research.google.com/) How to load data in Google Colab ?(https://towardsdatascience.com/3-ways-to-load-csv-files-into-colab-7c14fcbdcb92)\n",
        "6. The lab must be submitted on Google classroom. The code as well as the accompanying observations should be made part of the python notebook.\n",
        "7. **Code Readability** is very important. Hence use self explanatory variable names and add comments to describe your approach wherever necessary.\n",
        "8. You are expected to submit your **detailed inferences** and not just an error free code.\n",
        "9. The lab is due on **Feb 21st 11.59pm**.\n",
        "10. The lab should be completed **individually**. Students are expected to follow the **honor code** of the class.\n",
        "\n",
        "\n"
      ]
    },
    {
      "cell_type": "code",
      "metadata": {
        "id": "rvZ4obBVCkdx",
        "colab_type": "code",
        "colab": {}
      },
      "source": [
        "# Import necessary libraries\n",
        "\n",
        "import sklearn\n",
        "from sklearn.linear_model import LinearRegression\n",
        "from sklearn.linear_model import Ridge\n",
        "from sklearn.linear_model import Lasso\n",
        "import matplotlib.pyplot as plt\n",
        "import numpy as np\n",
        "import pandas as pd"
      ],
      "execution_count": 0,
      "outputs": []
    },
    {
      "cell_type": "markdown",
      "metadata": {
        "id": "IrXqVDioAoF-",
        "colab_type": "text"
      },
      "source": [
        ""
      ]
    },
    {
      "cell_type": "markdown",
      "metadata": {
        "colab_type": "text",
        "id": "J5hn9wvxA2hw"
      },
      "source": [
        "Describe the arguments and output of the linear regression function call in sklearn package.\n",
        "\n",
        "\n",
        "\n",
        "---\n",
        "**5 Points** \n",
        "\n",
        "\n",
        "---\n",
        "fit_intercept - to specify intercept 0 or non-zero. 0 if set to false\n",
        "\n",
        "normalize  - if fit_intercept set false this is ignored. if set true dataset will be normalized before regression by subtracting the mean and dividing by the l2-norm \n",
        "\n",
        "n_jobs - number of jobs to use for the computation. will only provide speedup for n_targets > 1 \n",
        "\n",
        "class sklearn.linear_model.LinearRegression(fit_intercept=True, normalize=False, copy_X=True, n_jobs=None) - LinearRegression fits a linear model with coefficients w = (w1, …, wp) to minimize the residual sum of squares between the observed targets in the dataset, and the targets predicted by the linear approximation.\n",
        "\n"
      ]
    },
    {
      "cell_type": "markdown",
      "metadata": {
        "id": "rrzJ2WFeGFZ1",
        "colab_type": "text"
      },
      "source": [
        "We will be using the ACS flammability limit computation dataset for linear regression task. The dataset contains 105 molecular properties of few chemical compounds from which Flammability Limit is to be computed. The following block contains code to read the excel file from the given URL and preprocess the data. **Please don't make any changes to the block below.**"
      ]
    },
    {
      "cell_type": "code",
      "metadata": {
        "id": "lxOnNEVUG0Yk",
        "colab_type": "code",
        "colab": {}
      },
      "source": [
        "\n",
        "# Load the dataset onto a data frame. !! Please dont make any changes !!\n",
        "url = \"https://ndownloader.figshare.com/files/18729491\"\n",
        "data_frame = pd.read_excel(url,encoding='latin-1',skiprows=5)\n",
        "\n",
        "# Necessary attributes converted to numpy arrays\n",
        "target = data_frame.iloc[:,4].to_numpy()\n",
        "input_features = data_frame.iloc[:,6:].to_numpy()\n"
      ],
      "execution_count": 0,
      "outputs": []
    },
    {
      "cell_type": "markdown",
      "metadata": {
        "id": "XSmvKwKtS0eb",
        "colab_type": "text"
      },
      "source": [
        "We have input attributes and output vector ready. Now the first step is to split the entire dataset into training and test subsets. sklearn package provides you a flexible way of doing this. All you need to do is just specify input attributes array, target array and fraction of the test set. Once the split is done, we are ready to train the model and evaluate it. \n",
        "\n",
        "- We would like you to experiment with different test set fractions and comment on how well the model is able to estimate the target value for new test instances? \n",
        "\n",
        "- Also there is another flexibility to tune the intercept term on or off. We would like you to experiment on those possibilities as well.\n",
        "\n",
        "**Note:** Don't forget to explicitly normalize the attributes.\n",
        "\n",
        "---\n",
        "\n",
        "\n",
        "**10 Points** \n",
        "\n",
        "---\n",
        "\n"
      ]
    },
    {
      "cell_type": "code",
      "metadata": {
        "id": "hzyj0Ia3V166",
        "colab_type": "code",
        "colab": {
          "base_uri": "https://localhost:8080/",
          "height": 158
        },
        "outputId": "4f3784b3-ab7b-4145-89c7-787216592ce0"
      },
      "source": [
        "from sklearn import metrics\n",
        "from sklearn.model_selection import train_test_split\n",
        "test_size_fractions = [0.2,0.3,0.4,0.5]\n",
        "\n",
        "mse_list = []\n",
        "\n",
        "# Step 1: Create a linear regressor object \n",
        "# Insert your code below\n",
        "linearRegressor = LinearRegression(normalize=True)\n",
        "\n",
        "# Step 2: Create a linear regressor object forcing bias or intercept as 0\n",
        "# Insert your code below\n",
        "linearRegressor2 = LinearRegression(fit_intercept=False)\n",
        "\n",
        "reqFraction = -1 ;\n",
        "intercept = 0; \n",
        "\n",
        "minprediction = float('inf') ;\n",
        "\n",
        "\n",
        "# Experiment with 8 different model setup\n",
        "\n",
        "for fraction in test_size_fractions:\n",
        "    \n",
        "    \n",
        "    # Step 3: Split into train and test set based on the fraction\n",
        "    # Insert your code below\n",
        "    train_X, test_X, train_Y, test_Y = train_test_split(input_features , target ,test_size = fraction )\n",
        "    \n",
        "\n",
        "    # Step 4(a): Train the Intercept Linear Regression model using held out training set\n",
        "    # Insert your code below\n",
        "    linearRegressor.fit(train_X, train_Y)                                                              \n",
        "\n",
        "    # Step 4(b): Predict the target values using the trained model for test set instances\n",
        "    # Insert your code below\n",
        "    predictTestY = linearRegressor.predict(test_X) \n",
        "\n",
        "    # Step 4(c): Print the mean squared error of the model on test data set. Store this value to mse list to find the best model setting.\n",
        "    # Insert your code below\n",
        "\n",
        "    print('Mean Squared Error with non-zero intercept and test fraction = '+ str(fraction) + ' is ' + str(metrics.mean_squared_error(test_Y,  predictTestY )) )\n",
        "    mse_list.append(metrics.mean_squared_error(test_Y,  predictTestY ))\n",
        "    if metrics.mean_squared_error(test_Y,  predictTestY ) < minprediction :\n",
        "      minprediction = metrics.mean_squared_error(test_Y,  predictTestY )\n",
        "      reqFraction = fraction;\n",
        "      intercept = 1;  \n",
        "    \n",
        "    \n",
        "\n",
        "    # Step 5(a): Train the Non Intercept Linear Regression model using held out training set\n",
        "    # Insert your code below\n",
        "    linearRegressor2.fit(train_X, train_Y)\n",
        "\n",
        "    # Step 5(b): Predict the target values using the trained non intercept for test set instances\n",
        "    # Insert your code below\n",
        "    predictTestY = linearRegressor2.predict(test_X)\n",
        "\n",
        "    # Step 5(c): Print the mean squared error of the non intercept model on test data set. Store this value to mse list to find the best model setting.\n",
        "    # Insert your code below\n",
        "    print('Mean Squared Error with 0 intercept and test fraction = '+ str(fraction) + ' is ' + str(metrics.mean_squared_error(test_Y,  predictTestY )) )\n",
        "    mse_list.append(metrics.mean_squared_error(test_Y,  predictTestY )) \n",
        "    if metrics.mean_squared_error(test_Y,  predictTestY ) < minprediction :\n",
        "      minprediction = metrics.mean_squared_error(test_Y,  predictTestY )\n",
        "      reqFraction = fraction;\n",
        "      intercept = 0; \n",
        "\n"
      ],
      "execution_count": 73,
      "outputs": [
        {
          "output_type": "stream",
          "text": [
            "Mean Squared Error with non-zero intercept and test fraction = 0.2 is 3.894712995205859e+21\n",
            "Mean Squared Error with 0 intercept and test fraction = 0.2 is 0.22279298834513137\n",
            "Mean Squared Error with non-zero intercept and test fraction = 0.3 is 2.067517802064761e+25\n",
            "Mean Squared Error with 0 intercept and test fraction = 0.3 is 0.21848444131753425\n",
            "Mean Squared Error with non-zero intercept and test fraction = 0.4 is 9.60748270652422e+22\n",
            "Mean Squared Error with 0 intercept and test fraction = 0.4 is 0.2450511117492061\n",
            "Mean Squared Error with non-zero intercept and test fraction = 0.5 is 2.739470710147773e+23\n",
            "Mean Squared Error with 0 intercept and test fraction = 0.5 is 0.41019083719641014\n"
          ],
          "name": "stdout"
        }
      ]
    },
    {
      "cell_type": "markdown",
      "metadata": {
        "id": "1kMiW7qyExI5",
        "colab_type": "text"
      },
      "source": [
        "We observe that with intercept present sum of squared errors is diverging for any test- train split that means data is centered around origin and decision boundary passes through origin. The MLE fails to converge because may be the data points are highly correlated and data is very sparse."
      ]
    },
    {
      "cell_type": "markdown",
      "metadata": {
        "id": "l8aRGM_afDmY",
        "colab_type": "text"
      },
      "source": [
        "In the previous block you have experimented with different settings of the Linear Regression model. You have test set mean squared error stored. Figure out which setting gave the least mean squared error. \n",
        "\n",
        "---\n",
        "\n",
        "**5 Points**\n",
        "\n",
        "---\n",
        "\n",
        "\n"
      ]
    },
    {
      "cell_type": "code",
      "metadata": {
        "id": "cyFU-GFUhZkB",
        "colab_type": "code",
        "colab": {
          "base_uri": "https://localhost:8080/",
          "height": 52
        },
        "outputId": "a96ae3bd-52ba-44ed-bd1c-5fe7e4a85826"
      },
      "source": [
        "# Insert your code to identify the best fraction and intercept requirement. Also, print the best setting chosen.\n",
        " \n",
        " \n",
        " # the required code is written in above block itself in which minprediction has the minimum value value of prediction and reqFraction store the fraction of split and bool intercept shows\n",
        " # intercept present or not\n",
        "\n",
        "print( ' req fraction is ' + str( reqFraction )  )\n",
        "\n",
        "if intercept== 0 :\n",
        "    print('intercept term is zero')\n",
        "\n",
        "else :\n",
        "    print('intercept term is non-zero')\n",
        "    \n",
        "\n",
        "\n"
      ],
      "execution_count": 74,
      "outputs": [
        {
          "output_type": "stream",
          "text": [
            " req fraction is 0.3\n",
            "intercept term is zero\n"
          ],
          "name": "stdout"
        }
      ]
    },
    {
      "cell_type": "markdown",
      "metadata": {
        "id": "W56B4O9eFOpM",
        "colab_type": "text"
      },
      "source": [
        ""
      ]
    },
    {
      "cell_type": "markdown",
      "metadata": {
        "id": "mQVehqr9hl6x",
        "colab_type": "text"
      },
      "source": [
        "Now that you have figured out the best model setting, use that setting to train the model to predict test instances.\n",
        "\n",
        "\n",
        "---\n",
        "\n",
        "**3 Points**\n",
        "\n",
        "\n",
        "---\n",
        "\n"
      ]
    },
    {
      "cell_type": "code",
      "metadata": {
        "id": "JJEf7Rg8h7oS",
        "colab_type": "code",
        "colab": {
          "base_uri": "https://localhost:8080/",
          "height": 34
        },
        "outputId": "8d1677be-7fb3-4de9-dad5-97e11f99b466"
      },
      "source": [
        "# Step 1: Split the entire dataset into train and test set based on the best fraction\n",
        "# Insert your code below\n",
        "train_X, test_X, train_Y, test_Y = train_test_split(input_features , target ,test_size = reqFraction)\n",
        "\n",
        "# Step 2: Create a linear regressor object with intercept turned on or off as per best model setting\n",
        "# Insert your code below\n",
        "if intercept== 0 :\n",
        "    linearRegressor = LinearRegression(fit_intercept=False)\n",
        "\n",
        "\n",
        "else :\n",
        "    linearRegressor = LinearRegression(fit_intercept=True)\n",
        "\n",
        "\n",
        "\n",
        "# Step 3(a): Train the Linear Regression model using training set\n",
        "# Insert your code below\n",
        "\n",
        "linearRegressor.fit(train_X, train_Y)  \n",
        "\n",
        "\n",
        "# Step 3(b): Predict the target values using the trained model for test set instances\n",
        "# Insert your code below\n",
        "predictTestY = linearRegressor.predict(test_X)\n",
        "\n",
        "# Step 3(c): Print the mean squared error of the model on test set. \n",
        "# Insert your code below\n",
        "print(metrics.mean_squared_error(test_Y,  predictTestY ))\n"
      ],
      "execution_count": 75,
      "outputs": [
        {
          "output_type": "stream",
          "text": [
            "0.6104313413365903\n"
          ],
          "name": "stdout"
        }
      ]
    },
    {
      "cell_type": "markdown",
      "metadata": {
        "id": "ZHT58sjij0f4",
        "colab_type": "text"
      },
      "source": [
        "Now check the goodness of the model with repsect to prediction on test instances. The aim is to predict the target values for test instances using the trained model. These values would be plotted against the true values of the test instances. A good model would yield a plot that looks *close to a line of slope 45 degree*. **Comment** on the goodness of the learned model using this test.\n",
        "\n",
        "---\n",
        "\n",
        "**5 points** \n",
        "\n",
        "---\n",
        "\n",
        "There is heavy density of data points around the predicted label = actual label line. Though not all points lie exactly on the line. Baring a few outliers the predicted label are reasonably close enough to actual label. Because logistic regression assumes no error in the output variable (y), removing outliers and possibly misclassified instances from the training data could have resulted in more points lying closer to line with slope 1 through origin.\n",
        "\n",
        "\n",
        "\n",
        "\n",
        "\n"
      ]
    },
    {
      "cell_type": "code",
      "metadata": {
        "id": "CuDziN7WlJHy",
        "colab_type": "code",
        "colab": {
          "base_uri": "https://localhost:8080/",
          "height": 297
        },
        "outputId": "2356ee95-d6a3-412a-b09f-15a2dd5126ae"
      },
      "source": [
        "# Insert your code to plot true vs predicted test values\n",
        "import matplotlib.pyplot as plt\n",
        "\n",
        "plt.scatter(test_Y, predictTestY, label= ' actual label vs predicted label')\n",
        "plt.plot(test_Y, test_Y, color='green')\n",
        "plt.legend()\n",
        "plt.xlabel('actual label')\n",
        "plt.ylabel('predicted label')\n",
        "\n",
        "\n"
      ],
      "execution_count": 76,
      "outputs": [
        {
          "output_type": "execute_result",
          "data": {
            "text/plain": [
              "Text(0, 0.5, 'predicted label')"
            ]
          },
          "metadata": {
            "tags": []
          },
          "execution_count": 76
        },
        {
          "output_type": "display_data",
          "data": {
            "image/png": "[encoded data removed]",
            "text/plain": [
              "<Figure size 432x288 with 1 Axes>"
            ]
          },
          "metadata": {
            "tags": []
          }
        }
      ]
    },
    {
      "cell_type": "markdown",
      "metadata": {
        "id": "NxeWm_LaHQDl",
        "colab_type": "text"
      },
      "source": [
        ""
      ]
    },
    {
      "cell_type": "markdown",
      "metadata": {
        "id": "-6jQmj8amZTr",
        "colab_type": "text"
      },
      "source": [
        "You have implemented simple linear regression. You may apply regularization techniques that constrain the coefficients. We will be seeing 2 types of regularized regression techniques:\n",
        "\n",
        "\n",
        "1.   Ridge Regression\n",
        "2.   Lasso Regression\n",
        "\n"
      ]
    },
    {
      "cell_type": "markdown",
      "metadata": {
        "colab_type": "text",
        "id": "sxHV6iP4Mlwg"
      },
      "source": [
        "# Ridge Regression\n",
        "\n",
        "---\n",
        "\n",
        "Describe the arguments and output of the Ridge regression function call in sklearn package.\n",
        "\n",
        "\n",
        "\n",
        "\n",
        "---\n",
        "**5 Points** \n",
        "\n",
        "\n",
        "---\n",
        "sklearn.linear_model.Ridge - Linear least squares with l2 regularization.This estimator has built-in support for multi-variate regression (i.e., when y is a 2d-array of shape (n_samples, n_targets)).\n",
        "\n",
        "alpha - Regularization strength, reduces the variance of the estimates\n",
        "\n",
        "fit_intercept - to specify intercept 0 or non-zero. 0 if set to false\n",
        "\n",
        "normalize - if fit_intercept set false this is ignored. if set true dataset will be normalized before regression by subtracting the mean and dividing by the l2-norm\n",
        "\n",
        "max_iter - Maximum number of iterations for conjugate gradient solver.\n",
        "\n",
        "random_state - seed of the pseudo random number generator to use when shuffling the data\n",
        "\n",
        "predict(self, X) - Predict using the linear model.\n",
        "\n",
        "\n"
      ]
    },
    {
      "cell_type": "markdown",
      "metadata": {
        "id": "9Wyr-kOLm-AT",
        "colab_type": "text"
      },
      "source": [
        "\n",
        "\n",
        "\n",
        "In ridge regression, L-2 regularization is applied to the coefficients. You have a hyperparameter alpha which you can vary to control the extent of constraining the coefficients. We would like you to experiment with different values of alpha and comment on the model performance. You may use the best setting of Linear Regression to Ridge Regression also. **Comment** on the effect of the alpha value on the mean squared error.\n",
        "\n",
        "\n",
        "---\n",
        "\n",
        "**9 Points**\n",
        "\n",
        "\n",
        "---\n",
        "with increasing alpha the coefficient/weights of higher power terms are penalized more thus reducing the variance but at the same time bias starts to increase gradually and hence for large alpha values MSE increases. It generally works well even in presence of highly correlated features as it will include all of them in the model but the coefficients will be distributed among them depending on the correlation. Higher values of alpha reduce overfitting BUT significantly high values can cause underfitting as well.\n"
      ]
    },
    {
      "cell_type": "code",
      "metadata": {
        "id": "-2MHw9z8oKVE",
        "colab_type": "code",
        "colab": {
          "base_uri": "https://localhost:8080/",
          "height": 737
        },
        "outputId": "fef86369-1181-4a15-fa88-e760999daf6c"
      },
      "source": [
        "from sklearn.linear_model import RidgeClassifier\n",
        "\n",
        "alpha_values = [0.01,0.05,0.1,0.25,0.5,0.75,1,1.25,1.5,1.75,2,5,10,20,30,40,50,100,200,400,500,600,700,800,1000]\n",
        "error_list = []\n",
        "\n",
        "# Step 1: Split into train and test set based on the best fraction\n",
        "# Insert your code below\n",
        "\n",
        "train_X, test_X, train_Y, test_Y = train_test_split(input_features , target ,test_size = reqFraction)\n",
        "\n",
        "\n",
        "for alpha_ in alpha_values:\n",
        "\n",
        "\n",
        "    # Step 2: Create a Ridge regressor object with desired alpha value\n",
        "    # Insert your code below\n",
        "    clf = Ridge(alpha = alpha_ )  \n",
        "\n",
        "    \n",
        "\n",
        "    # Step 3(a): Train the Ridge Regression model using training set\n",
        "    # Insert your code below\n",
        "\n",
        "    clf=clf.fit(train_X, train_Y)\n",
        "    \n",
        "\n",
        "    # Step 3(b): Predict the target values using the trained Ridge model for test set instances\n",
        "    # Insert your code below\n",
        "\n",
        "    predictTestY = clf.predict(test_X)    \n",
        "\n",
        "   \n",
        "\n",
        "    # Step 3(c): Print the mean squared error of the model on test set. Add it to an error list to plot later.\n",
        "    # Insert your code below\n",
        "    print(metrics.mean_squared_error(test_Y,  predictTestY ))\n",
        "    error_list.append(metrics.mean_squared_error(test_Y, predictTestY ))\n",
        "\n",
        "# Step 4: Plot a graph of different alpha values of ridge regression versus mean squared error\n",
        "\n",
        "plt.scatter(alpha_values, error_list, label= 'mean squared error vs alpha')\n",
        "    \n",
        "plt.legend()\n",
        "plt.ylabel('mean squared error')\n",
        "plt.xlabel('aplha')\n",
        "\n",
        "\n"
      ],
      "execution_count": 77,
      "outputs": [
        {
          "output_type": "stream",
          "text": [
            "0.10079477687930763\n",
            "0.10054875057918644\n",
            "0.10060154248214158\n",
            "0.1009721988010494\n",
            "0.10151874330822075\n",
            "0.1019858618725124\n",
            "0.10238964575588859\n",
            "0.10273861129517146\n",
            "0.103041294860624\n",
            "0.10330551661914172\n",
            "0.10353789962562585\n",
            "0.10507908400285282\n",
            "0.10606909162651754\n",
            "0.1069121208799052\n",
            "0.10734555562892471\n",
            "0.10762305925195109\n",
            "0.10781997209176629\n",
            "0.1083549097229554\n",
            "0.10896417534850532\n",
            "0.11011040563209203\n",
            "0.11068961003154844\n",
            "0.11126157677940222\n",
            "0.11182163100030187\n",
            "0.11236760682786547\n",
            "0.11341527583833623\n"
          ],
          "name": "stdout"
        },
        {
          "output_type": "execute_result",
          "data": {
            "text/plain": [
              "Text(0.5, 0, 'aplha')"
            ]
          },
          "metadata": {
            "tags": []
          },
          "execution_count": 77
        },
        {
          "output_type": "display_data",
          "data": {
            "image/png": "[encoded data removed]",
            "text/plain": [
              "<Figure size 432x288 with 1 Axes>"
            ]
          },
          "metadata": {
            "tags": []
          }
        }
      ]
    },
    {
      "cell_type": "markdown",
      "metadata": {
        "id": "zYIie5JdyrBt",
        "colab_type": "text"
      },
      "source": [
        ""
      ]
    },
    {
      "cell_type": "markdown",
      "metadata": {
        "id": "qNlHlQBPNXLM",
        "colab_type": "text"
      },
      "source": [
        "# Lasso Regression\n",
        "\n",
        "---\n",
        "\n",
        "Describe the arguments and output of the Lasso regression function call in sklearn package.\n",
        "\n",
        "\n",
        "\n",
        "---\n",
        "**5 Points** \n",
        "\n",
        "\n",
        "---\n",
        "\n",
        "Linear Model trained with L1 prior as regularizer\n",
        "\n",
        "alpha - Constant that multiplies the L1 term\n",
        "\n",
        "fit_intercept - to specify intercept 0 or non-zero. 0 if set to false\n",
        "\n",
        "normalize - if fit_intercept set false this is ignored. if set true dataset will be normalized before regression by subtracting the mean and dividing by the l2-norm\n",
        "\n",
        "max_iter - The maximum number of iterations\n",
        "\n",
        "random_state - The seed of the pseudo random number generator that selects a random feature to update.\n",
        "\n",
        "n_iter_ - number of iterations run by the coordinate descent solver to reach the specified tolerance.\n",
        "\n"
      ]
    },
    {
      "cell_type": "markdown",
      "metadata": {
        "id": "GLj4DffxpM4K",
        "colab_type": "text"
      },
      "source": [
        "In Lasso regression, L-1 regularization is applied to the coefficients. You have a hyperparameter alpha which you can vary to control the extent of constraining the coefficients. We would like you to experiment with different values of alpha and **comment** on the model performance. You may use the best setting of Linear Regression to Lasso Regression also.\n",
        "\n",
        "---\n",
        "\n",
        "**9 Points**\n",
        "\n",
        "---\n",
        "we observe that MSE increases with increasing alpha beacuase lasso not only helps to reduce the variance but also helps in **feature selection** and higher alpha values can most coefficents become zero or nearly zero thus leads the model to underfit while ridge regression only reduces the coefficients close to zero, but not zero. Lasso provides **sparse solutions** which may underfit small datasets.\n"
      ]
    },
    {
      "cell_type": "code",
      "metadata": {
        "id": "FyEtXEX0jZRw",
        "colab_type": "code",
        "colab": {
          "base_uri": "https://localhost:8080/",
          "height": 490
        },
        "outputId": "b2a67632-90a9-46a3-c3d4-047d6c57eef8"
      },
      "source": [
        "from sklearn import linear_model\n",
        "import matplotlib.pyplot as plt\n",
        "\n",
        "alpha_values = [0.01,0.05,0.1,0.25,0.5,0.75,1,1.25,1.5,1.75,2]\n",
        "error_list = []\n",
        "\n",
        "# Step 1: Split into train and test set based on the best fraction\n",
        "# Insert your code below\n",
        "\n",
        "train_X, test_X, train_Y, test_Y = train_test_split(input_features , target, test_size = reqFraction)\n",
        "\n",
        "\n",
        "for alpha_ in alpha_values:\n",
        "\n",
        "    # Step 2: Create a LASSO regressor object with desired alpha value\n",
        "    # Insert your code below\n",
        "    clf = Lasso(alpha = alpha_ )\n",
        "\n",
        "   \n",
        "\n",
        "    # Step 3(a): Train the LASSO Regression model using training set\n",
        "    # Insert your code below\n",
        "\n",
        "    clf=clf.fit(train_X, train_Y)    \n",
        "\n",
        "    # Step 3(b): Predict the target values using the trained LASSO model for test set instances\n",
        "    # Insert your code below\n",
        "    predictTestY = clf.predict(test_X)\n",
        "\n",
        "    # Step 3(c): Print the mean squared error of the model on test set. Add it to an error list to plot later.\n",
        "    # Insert your code below\n",
        "    print(metrics.mean_squared_error(test_Y,  predictTestY ))\n",
        "    error_list.append(metrics.mean_squared_error(test_Y,  predictTestY ) )\n",
        "\n",
        "\n",
        "    \n",
        "\n",
        "\n",
        "# Step 4: Plot a graph of different alpha values of lasso regression versus mean squared error\n",
        "\n",
        "plt.scatter(alpha_values, error_list, label = 'mean squared error vs alpha ' )    \n",
        "plt.legend()\n",
        "plt.ylabel('mean squared error')\n",
        "plt.xlabel('aplha')\n",
        "\n",
        "\n",
        "\n"
      ],
      "execution_count": 78,
      "outputs": [
        {
          "output_type": "stream",
          "text": [
            "0.09667862895189863\n",
            "0.10834199377698245\n",
            "0.11535486417964537\n",
            "0.12910128701791598\n",
            "0.14770595413353033\n",
            "0.1746675647128444\n",
            "0.1840300403315941\n",
            "0.18837777312465678\n",
            "0.19370864154324777\n",
            "0.20002264558736696\n",
            "0.2073197852570144\n"
          ],
          "name": "stdout"
        },
        {
          "output_type": "execute_result",
          "data": {
            "text/plain": [
              "Text(0.5, 0, 'aplha')"
            ]
          },
          "metadata": {
            "tags": []
          },
          "execution_count": 78
        },
        {
          "output_type": "display_data",
          "data": {
            "image/png": "[encoded data removed]",
            "text/plain": [
              "<Figure size 432x288 with 1 Axes>"
            ]
          },
          "metadata": {
            "tags": []
          }
        }
      ]
    },
    {
      "cell_type": "markdown",
      "metadata": {
        "id": "GaY8yDgjFvwb",
        "colab_type": "text"
      },
      "source": [
        "Now since you have tried LASSO with different alpha values, you may try different number of maximum iterations associated with LASSO and **comment** on its effect on the mean squared error.\n",
        "\n",
        "\n",
        "---\n",
        "\n",
        "**9 Points**\n",
        "\n",
        "---\n",
        "we see that with the default value of aplha = 1 \n",
        "there is a minimal change in MSE with increasing max iterations. There are two reason first is that aplha = 1 is  **base line case** i.e with alpha = 1. There will be large sparsity in the coefficients and the effect of only intercept term will be dominant. Secondly, the training dataset is very less thats why the model get trained in very less iterations around about 15. So, greater iterations are irrelevant as the model converges early on, we are very close to optimum and further iterations won’t have a substantial impact on coefficients.\n",
        "\n",
        "To present effect of max iteration more clearly I plotted below the case when no of iteration is just 10 for both aplha = 1 and alpha = 0.01. As said above for aplha = 1 again constant curve observed with MSE about 0.14 while for 0.01 MSE reduced to about 0.06 and decreases with increasing max_iter as it will decrease the bias due to better exposure to dataset.\n",
        "\n",
        "Thus we conclude that lasso is best when modelling cases where the no of features are huge. In such a case, getting a sparse solution is of great computational advantage as the features with zero coefficients can simply be ignored. While ridge works well even in presence of highly correlated features as it will include all of them in the model but the coefficients will be distributed among them depending on the correlation but lasso will reduce the correlated coefficients to zero and thus even small values of alpha will give significant sparsity.\n"
      ]
    },
    {
      "cell_type": "code",
      "metadata": {
        "id": "51uy4oEqFuBK",
        "colab_type": "code",
        "colab": {
          "base_uri": "https://localhost:8080/",
          "height": 1000
        },
        "outputId": "03653fe1-e12d-4ae4-ef6f-4b9af140b803"
      },
      "source": [
        "\n",
        "# Step 1: Split into train and test set based on the best fraction\n",
        "# Insert your code below\n",
        "\n",
        "train_X, test_X, train_Y, test_Y = train_test_split(input_features , target ,test_size = reqFraction)\n",
        "error_list = []\n",
        "max_iterations = []\n",
        "for m_iterations in range(1,200,2):  \n",
        "\n",
        "    max_iterations.append(m_iterations)\n",
        "    # Step 2: Create a LASSO regressor object with desired number of iterations\n",
        "    # Insert your code below\n",
        "    clf = Lasso( max_iter = m_iterations )\n",
        "    \n",
        "\n",
        "    # Step 3(a): Train the LASSO Regression model using training set\n",
        "    # Insert your code below\n",
        "\n",
        "    clf=clf.fit(train_X, train_Y)\n",
        "\n",
        "    \n",
        "\n",
        "    # Step 3(b): Predict the target values using the trained LASSO model for test set instances\n",
        "    # Insert your code below\n",
        "    predictTestY = clf.predict(test_X)\n",
        "   \n",
        "\n",
        "    # Step 3(c): Print the mean squared error of the model on test set. Add it to an error list to plot later.\n",
        "    # Insert your code below\n",
        "    print(metrics.mean_squared_error(test_Y,  predictTestY ))\n",
        "    error_list.append(metrics.mean_squared_error(test_Y,  predictTestY ) )\n",
        "\n",
        "\n",
        "# Step 4: Plot a graph of different max iteration values of lasso regression versus mean squared error\n",
        "\n",
        "\n",
        "plt.scatter(max_iterations, error_list, label = 'mean squared error vs max_iteration' )    \n",
        "plt.legend()\n",
        "plt.ylabel('mean squared error')\n",
        "plt.xlabel('max_iteration')\n",
        "\n",
        "\n",
        "\n"
      ],
      "execution_count": 79,
      "outputs": [
        {
          "output_type": "stream",
          "text": [
            "/usr/local/lib/python3.6/dist-packages/sklearn/linear_model/_coordinate_descent.py:476: ConvergenceWarning: Objective did not converge. You might want to increase the number of iterations. Duality gap: 3.844050641010284, tolerance: 0.017961211096850126\n",
            "  positive)\n"
          ],
          "name": "stderr"
        },
        {
          "output_type": "stream",
          "text": [
            "0.153278375252117\n",
            "0.15258955513857586\n",
            "0.15258955513857586\n",
            "0.15258955513857586\n",
            "0.15258955513857586\n",
            "0.15258955513857586\n",
            "0.15258955513857586\n",
            "0.15258955513857586\n",
            "0.15258955513857586\n",
            "0.15258955513857586\n",
            "0.15258955513857586\n",
            "0.15258955513857586\n",
            "0.15258955513857586\n",
            "0.15258955513857586\n",
            "0.15258955513857586\n",
            "0.15258955513857586\n",
            "0.15258955513857586\n",
            "0.15258955513857586\n",
            "0.15258955513857586\n",
            "0.15258955513857586\n",
            "0.15258955513857586\n",
            "0.15258955513857586\n",
            "0.15258955513857586\n",
            "0.15258955513857586\n",
            "0.15258955513857586\n",
            "0.15258955513857586\n",
            "0.15258955513857586\n",
            "0.15258955513857586\n",
            "0.15258955513857586\n",
            "0.15258955513857586\n",
            "0.15258955513857586\n",
            "0.15258955513857586\n",
            "0.15258955513857586\n",
            "0.15258955513857586\n",
            "0.15258955513857586\n",
            "0.15258955513857586\n",
            "0.15258955513857586\n",
            "0.15258955513857586\n",
            "0.15258955513857586\n",
            "0.15258955513857586\n",
            "0.15258955513857586\n",
            "0.15258955513857586\n",
            "0.15258955513857586\n",
            "0.15258955513857586\n",
            "0.15258955513857586\n",
            "0.15258955513857586\n",
            "0.15258955513857586\n",
            "0.15258955513857586\n",
            "0.15258955513857586\n",
            "0.15258955513857586\n",
            "0.15258955513857586\n",
            "0.15258955513857586\n",
            "0.15258955513857586\n",
            "0.15258955513857586\n",
            "0.15258955513857586\n",
            "0.15258955513857586\n",
            "0.15258955513857586\n",
            "0.15258955513857586\n",
            "0.15258955513857586\n",
            "0.15258955513857586\n",
            "0.15258955513857586\n",
            "0.15258955513857586\n",
            "0.15258955513857586\n",
            "0.15258955513857586\n",
            "0.15258955513857586\n",
            "0.15258955513857586\n",
            "0.15258955513857586\n",
            "0.15258955513857586\n",
            "0.15258955513857586\n",
            "0.15258955513857586\n",
            "0.15258955513857586\n",
            "0.15258955513857586\n",
            "0.15258955513857586\n",
            "0.15258955513857586\n",
            "0.15258955513857586\n",
            "0.15258955513857586\n",
            "0.15258955513857586\n",
            "0.15258955513857586\n",
            "0.15258955513857586\n",
            "0.15258955513857586\n",
            "0.15258955513857586\n",
            "0.15258955513857586\n",
            "0.15258955513857586\n",
            "0.15258955513857586\n",
            "0.15258955513857586\n",
            "0.15258955513857586\n",
            "0.15258955513857586\n",
            "0.15258955513857586\n",
            "0.15258955513857586\n",
            "0.15258955513857586\n",
            "0.15258955513857586\n",
            "0.15258955513857586\n",
            "0.15258955513857586\n",
            "0.15258955513857586\n",
            "0.15258955513857586\n",
            "0.15258955513857586\n",
            "0.15258955513857586\n",
            "0.15258955513857586\n",
            "0.15258955513857586\n",
            "0.15258955513857586\n"
          ],
          "name": "stdout"
        },
        {
          "output_type": "execute_result",
          "data": {
            "text/plain": [
              "Text(0.5, 0, 'max_iteration')"
            ]
          },
          "metadata": {
            "tags": []
          },
          "execution_count": 79
        },
        {
          "output_type": "display_data",
          "data": {
            "image/png": "[encoded data removed]",
            "text/plain": [
              "<Figure size 432x288 with 1 Axes>"
            ]
          },
          "metadata": {
            "tags": []
          }
        }
      ]
    },
    {
      "cell_type": "code",
      "metadata": {
        "id": "RHbsUoEuBKoL",
        "colab_type": "code",
        "colab": {
          "base_uri": "https://localhost:8080/",
          "height": 582
        },
        "outputId": "fbf1bdb8-fe19-438d-a7f7-aafa75798c9a"
      },
      "source": [
        "# with alpha = 0.01 and iterations = 10 we see change in MSE\n",
        "\n",
        "train_X, test_X, train_Y, test_Y = train_test_split(input_features , target ,test_size = reqFraction)\n",
        "error_list = []\n",
        "max_iterations = []\n",
        "for m_iterations in range(1,10,2):  \n",
        "\n",
        "    max_iterations.append(m_iterations)\n",
        "    # Step 2: Create a LASSO regressor object with desired number of iterations\n",
        "    # Insert your code below\n",
        "    clf = Lasso( max_iter = m_iterations , alpha = 0.01 )\n",
        "    \n",
        "\n",
        "    # Step 3(a): Train the LASSO Regression model using training set\n",
        "    # Insert your code below\n",
        "\n",
        "    clf=clf.fit(train_X, train_Y)\n",
        "\n",
        "    \n",
        "\n",
        "    # Step 3(b): Predict the target values using the trained LASSO model for test set instances\n",
        "    # Insert your code below\n",
        "    predictTestY = clf.predict(test_X)\n",
        "   \n",
        "\n",
        "    # Step 3(c): Print the mean squared error of the model on test set. Add it to an error list to plot later.\n",
        "    # Insert your code below\n",
        "    print(metrics.mean_squared_error(test_Y,  predictTestY ))\n",
        "    error_list.append(metrics.mean_squared_error(test_Y,  predictTestY ) )\n",
        "\n",
        "\n",
        "# Step 4: Plot a graph of different max iteration values of lasso regression versus mean squared error\n",
        "\n",
        "\n",
        "plt.scatter(max_iterations, error_list, label = 'mean squared error vs max_iteration when alpha = 0.01 and max_iter = 10' )    \n",
        "plt.legend()\n",
        "plt.ylabel('mean squared error')\n",
        "plt.xlabel('max_iteration')\n"
      ],
      "execution_count": 80,
      "outputs": [
        {
          "output_type": "stream",
          "text": [
            "0.06508146979438036\n",
            "0.06176001810570993\n",
            "0.060924495879349956\n",
            "0.060866596478662216\n",
            "0.06078316595452073\n"
          ],
          "name": "stdout"
        },
        {
          "output_type": "stream",
          "text": [
            "/usr/local/lib/python3.6/dist-packages/sklearn/linear_model/_coordinate_descent.py:476: ConvergenceWarning: Objective did not converge. You might want to increase the number of iterations. Duality gap: 35.69990734534506, tolerance: 0.018941121912066188\n",
            "  positive)\n",
            "/usr/local/lib/python3.6/dist-packages/sklearn/linear_model/_coordinate_descent.py:476: ConvergenceWarning: Objective did not converge. You might want to increase the number of iterations. Duality gap: 28.050230293677018, tolerance: 0.018941121912066188\n",
            "  positive)\n",
            "/usr/local/lib/python3.6/dist-packages/sklearn/linear_model/_coordinate_descent.py:476: ConvergenceWarning: Objective did not converge. You might want to increase the number of iterations. Duality gap: 26.070717361859405, tolerance: 0.018941121912066188\n",
            "  positive)\n",
            "/usr/local/lib/python3.6/dist-packages/sklearn/linear_model/_coordinate_descent.py:476: ConvergenceWarning: Objective did not converge. You might want to increase the number of iterations. Duality gap: 25.232082998699337, tolerance: 0.018941121912066188\n",
            "  positive)\n",
            "/usr/local/lib/python3.6/dist-packages/sklearn/linear_model/_coordinate_descent.py:476: ConvergenceWarning: Objective did not converge. You might want to increase the number of iterations. Duality gap: 24.58856849572721, tolerance: 0.018941121912066188\n",
            "  positive)\n"
          ],
          "name": "stderr"
        },
        {
          "output_type": "execute_result",
          "data": {
            "text/plain": [
              "Text(0.5, 0, 'max_iteration')"
            ]
          },
          "metadata": {
            "tags": []
          },
          "execution_count": 80
        },
        {
          "output_type": "display_data",
          "data": {
            "image/png": "[encoded data removed]",
            "text/plain": [
              "<Figure size 432x288 with 1 Axes>"
            ]
          },
          "metadata": {
            "tags": []
          }
        }
      ]
    },
    {
      "cell_type": "markdown",
      "metadata": {
        "id": "M4EFprsKCYZ0",
        "colab_type": "text"
      },
      "source": [
        ""
      ]
    },
    {
      "cell_type": "code",
      "metadata": {
        "id": "E4rkiJeTCY3_",
        "colab_type": "code",
        "colab": {
          "base_uri": "https://localhost:8080/",
          "height": 441
        },
        "outputId": "7af81381-9385-4947-d179-82ccb2daf880"
      },
      "source": [
        "# with alpha = 0.01 and iterations = 10 we see change in MSE\n",
        "\n",
        "train_X, test_X, train_Y, test_Y = train_test_split(input_features , target ,test_size = reqFraction)\n",
        "error_list = []\n",
        "max_iterations = []\n",
        "for m_iterations in range(1,10,2):  \n",
        "\n",
        "    max_iterations.append(m_iterations)\n",
        "    # Step 2: Create a LASSO regressor object with desired number of iterations\n",
        "    # Insert your code below\n",
        "    clf = Lasso( max_iter = m_iterations , alpha = 1 )\n",
        "    \n",
        "\n",
        "    # Step 3(a): Train the LASSO Regression model using training set\n",
        "    # Insert your code below\n",
        "\n",
        "    clf=clf.fit(train_X, train_Y)\n",
        "\n",
        "    \n",
        "\n",
        "    # Step 3(b): Predict the target values using the trained LASSO model for test set instances\n",
        "    # Insert your code below\n",
        "    predictTestY = clf.predict(test_X)\n",
        "   \n",
        "\n",
        "    # Step 3(c): Print the mean squared error of the model on test set. Add it to an error list to plot later.\n",
        "    # Insert your code below\n",
        "    print(metrics.mean_squared_error(test_Y,  predictTestY ))\n",
        "    error_list.append(metrics.mean_squared_error(test_Y,  predictTestY ) )\n",
        "\n",
        "\n",
        "# Step 4: Plot a graph of different max iteration values of lasso regression versus mean squared error\n",
        "\n",
        "\n",
        "plt.scatter(max_iterations, error_list, label = 'mean squared error vs max_iteration when alpha = 1 and max_iter = 10' )    \n",
        "plt.legend()\n",
        "plt.ylabel('mean squared error')\n",
        "plt.xlabel('max_iteration')\n"
      ],
      "execution_count": 81,
      "outputs": [
        {
          "output_type": "stream",
          "text": [
            "0.13837311089885382\n",
            "0.13638565437182343\n",
            "0.13638565437182343\n",
            "0.13638565437182343\n",
            "0.13638565437182343\n"
          ],
          "name": "stdout"
        },
        {
          "output_type": "stream",
          "text": [
            "/usr/local/lib/python3.6/dist-packages/sklearn/linear_model/_coordinate_descent.py:476: ConvergenceWarning: Objective did not converge. You might want to increase the number of iterations. Duality gap: 5.4859921894562405, tolerance: 0.018810402861534313\n",
            "  positive)\n"
          ],
          "name": "stderr"
        },
        {
          "output_type": "execute_result",
          "data": {
            "text/plain": [
              "Text(0.5, 0, 'max_iteration')"
            ]
          },
          "metadata": {
            "tags": []
          },
          "execution_count": 81
        },
        {
          "output_type": "display_data",
          "data": {
            "image/png": "[encoded data removed]",
            "text/plain": [
              "<Figure size 432x288 with 1 Axes>"
            ]
          },
          "metadata": {
            "tags": []
          }
        }
      ]
    }
  ]
}